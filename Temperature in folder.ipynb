{
 "cells": [
  {
   "cell_type": "code",
   "execution_count": 17,
   "metadata": {},
   "outputs": [],
   "source": [
    "import os\n",
    "import pandas as pd\n",
    "import numpy as np\n",
    "import math\n",
    "from scipy.stats import norm\n",
    "\n",
    "fileNames = os.listdir('E:\\\\Investment\\\\2018_04_03')\n",
    "fileNameDic = {}\n",
    "allTemperatures = {}\n",
    "for fileName in fileNames:\n",
    "    fileNameSplited = fileName.split('_')\n",
    "    if ( not fileNameSplited[0] in fileNameDic ):\n",
    "        fileNameDic[fileNameSplited[0]] = {}\n",
    "        allTemperatures[fileNameSplited[0]] = {}\n",
    "    fileNameDic[fileNameSplited[0]][fileNameSplited[1]] = 'E:\\\\Investment\\\\2018_04_03\\\\'+fileName"
   ]
  },
  {
   "cell_type": "code",
   "execution_count": 18,
   "metadata": {},
   "outputs": [
    {
     "name": "stdout",
     "output_type": "stream",
     "text": [
      "shangzheng380\n",
      "            Temperature\n",
      "Date                   \n",
      "2018-03-28    31.838831\n",
      "2018-03-29    32.697569\n",
      "2018-03-30    33.696042\n",
      "2018-04-02    33.806166\n",
      "2018-04-03    33.057133\n",
      "zhongzheng500\n",
      "            Temperature\n",
      "Date                   \n",
      "2018-03-28    15.881108\n",
      "2018-03-29    16.655425\n",
      "2018-03-30    17.563840\n",
      "2018-04-02    17.467519\n",
      "2018-04-03    16.748593\n",
      "zhongzhenghuanbao\n",
      "            Temperature\n",
      "Date                   \n",
      "2018-03-28    16.433669\n",
      "2018-03-29    15.852286\n",
      "2018-03-30    17.208282\n",
      "2018-04-02    16.711436\n",
      "2018-04-03    15.882140\n",
      "zhongzhengyiliao\n",
      "            Temperature\n",
      "Date                   \n",
      "2018-03-28    63.915438\n",
      "2018-03-29    59.001516\n",
      "2018-03-30    70.554948\n",
      "2018-04-02    65.164508\n",
      "2018-04-03    64.301401\n"
     ]
    }
   ],
   "source": [
    "pbHeaders = ['Date', 'PbPoint', 'Price', 'PB']\n",
    "peHeaders = ['Date', 'PePoint', 'Price','PE']\n",
    "for stock in allTemperatures:\n",
    "    pbFileName = fileNameDic[stock]['pb']\n",
    "    pbdata=pd.read_csv(pbFileName, skiprows=1, names = pbHeaders)\n",
    "    pbdata = pbdata.sort_values(by=['Date'])\n",
    "    pbdata.set_index('Date', inplace= True)\n",
    "\n",
    "    peFileName = fileNameDic[stock]['pe']\n",
    "    pedata=pd.read_csv(peFileName, skiprows=1, names = peHeaders)\n",
    "    pedata = pedata.sort_values(by=['Date'])\n",
    "    pedata.set_index('Date', inplace= True)\n",
    "    alldata = pd.concat([pbdata, pedata], axis=1, join='inner')\n",
    "    alldata = alldata.drop(['PbPoint', 'PePoint'], axis=1)\n",
    "    \n",
    "    temperatures = {\n",
    "        'Date':[],\n",
    "        'Temperature':[]\n",
    "    }\n",
    "    for n in range(len(np.array(alldata['PB'][0:], dtype=float))):\n",
    "        if not math.isnan(alldata['PB'][n]):\n",
    "            mean_pe_i = np.mean(alldata['PE'][0:n])\n",
    "            std_pe_i = np.std(alldata['PE'][0:n], ddof=1)\n",
    "            mean_pb_i = np.mean(alldata['PB'][0:n])\n",
    "            std_pb_i = np.std(alldata['PB'][0:n], ddof=1)\n",
    "            if (not math.isnan(std_pb_i)) and (not math.isnan(std_pe_i)):\n",
    "                d_pe = norm(loc=mean_pe_i, scale=std_pe_i)\n",
    "                pe_temper_i = (d_pe.cdf(alldata['PE'][n]))*100\n",
    "                d_pb = norm(loc=mean_pb_i, scale=std_pb_i)\n",
    "                pb_temper_i = (d_pb.cdf(alldata['PB'][n]))*100\n",
    "                temper_i = (pe_temper_i+pb_temper_i)/2.0\n",
    "                temperatures['Date'].append(alldata.index[n])\n",
    "                temperatures['Temperature'].append(temper_i)\n",
    "    temperatures = pd.DataFrame(temperatures)\n",
    "    temperatures.set_index('Date', inplace= True)\n",
    "    allTemperatures[stock] = temperatures\n",
    "    print(stock)\n",
    "    print(allTemperatures[stock].tail(n=5))"
   ]
  },
  {
   "cell_type": "code",
   "execution_count": null,
   "metadata": {
    "collapsed": true
   },
   "outputs": [],
   "source": []
  }
 ],
 "metadata": {
  "kernelspec": {
   "display_name": "Python 3",
   "language": "python",
   "name": "python3"
  },
  "language_info": {
   "codemirror_mode": {
    "name": "ipython",
    "version": 3
   },
   "file_extension": ".py",
   "mimetype": "text/x-python",
   "name": "python",
   "nbconvert_exporter": "python",
   "pygments_lexer": "ipython3",
   "version": "3.6.3"
  }
 },
 "nbformat": 4,
 "nbformat_minor": 2
}
